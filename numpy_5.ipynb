{
 "cells": [
  {
   "cell_type": "code",
   "execution_count": 1,
   "metadata": {},
   "outputs": [
    {
     "name": "stdout",
     "output_type": "stream",
     "text": [
      "hello world\n"
     ]
    }
   ],
   "source": [
    "print(\"hello world\")"
   ]
  },
  {
   "cell_type": "markdown",
   "metadata": {},
   "source": [
    "# Stacking and Broadcasting"
   ]
  },
  {
   "cell_type": "markdown",
   "metadata": {},
   "source": [
    "### Stacking"
   ]
  },
  {
   "cell_type": "markdown",
   "metadata": {},
   "source": [
    "The numpy.stack() function is used to join a sequence of arrays along a new axis.\n",
    "\n",
    "The axis parameter specifies the index of the new axis in the dimensions of the result.\n",
    "\n",
    " For example, if axis=0 it will be the first dimension and if axis=-1 it will be the last dimension.\n",
    "\n",
    "numpy.stack() is useful when working with machine learning models that require a single input array. \n",
    "\n",
    "For example, when working with image data, it is common to have multiple image files that need to be joined into a single array for processing by the machine learning model.\n"
   ]
  },
  {
   "cell_type": "markdown",
   "metadata": {},
   "source": [
    "Syntax:\n",
    "\n",
    "numpy.stack(arrays, axis=0, out=None)\n",
    "\n",
    "Stacking arrays vertically using numpy.stack() function"
   ]
  },
  {
   "cell_type": "markdown",
   "metadata": {},
   "source": [
    "A simple code for numpy stacking:\n",
    "\n",
    "Array stacking in NumPy involves combining multiple arrays along a new axis. Here's a simple example using np.stack to stack two arrays:\n",
    "\n"
   ]
  },
  {
   "cell_type": "code",
   "execution_count": 2,
   "metadata": {},
   "outputs": [
    {
     "name": "stdout",
     "output_type": "stream",
     "text": [
      "Array 1:\n",
      "[[ 1  2  3  4]\n",
      " [ 5  6  7  8]\n",
      " [ 9 10 11 12]]\n",
      "\n",
      "Array 2:\n",
      "[[13 14 15 16]\n",
      " [17 18 19 20]\n",
      " [21 22 23 24]]\n",
      "\n",
      "Result after stacking along axis 0:\n",
      "[[[ 1  2  3  4]\n",
      "  [ 5  6  7  8]\n",
      "  [ 9 10 11 12]]\n",
      "\n",
      " [[13 14 15 16]\n",
      "  [17 18 19 20]\n",
      "  [21 22 23 24]]]\n"
     ]
    }
   ],
   "source": [
    "import numpy as np\n",
    "\n",
    "# Create two arrays with the same shape (3x4)\n",
    "array1 = np.array([[1, 2, 3, 4],\n",
    "                   [5, 6, 7, 8],\n",
    "                   [9, 10, 11, 12]])\n",
    "\n",
    "array2 = np.array([[13, 14, 15, 16],\n",
    "                   [17, 18, 19, 20],\n",
    "                   [21, 22, 23, 24]])\n",
    "\n",
    "# Stack the arrays along a new axis (axis=0)\n",
    "stacked_array = np.stack([array1, array2], axis=0)\n",
    "\n",
    "# Print the original arrays and the result\n",
    "print(\"Array 1:\")\n",
    "print(array1)\n",
    "\n",
    "print(\"\\nArray 2:\")\n",
    "print(array2)\n",
    "\n",
    "print(\"\\nResult after stacking along axis 0:\")\n",
    "print(stacked_array)\n",
    "\n"
   ]
  },
  {
   "cell_type": "markdown",
   "metadata": {},
   "source": [
    "In this example, np.stack([array1, array2], axis=0) stacks the two arrays along a new axis (axis=0), resulting in a 3D array with shape (2, 3, 4). The first dimension (2) corresponds to the number of arrays stacked, and the remaining dimensions match the shape of the individual arrays."
   ]
  },
  {
   "cell_type": "code",
   "execution_count": 3,
   "metadata": {},
   "outputs": [
    {
     "name": "stdout",
     "output_type": "stream",
     "text": [
      "\n",
      "Result after stacking along axis 1:\n",
      "[[[ 1  2  3  4]\n",
      "  [13 14 15 16]]\n",
      "\n",
      " [[ 5  6  7  8]\n",
      "  [17 18 19 20]]\n",
      "\n",
      " [[ 9 10 11 12]\n",
      "  [21 22 23 24]]]\n"
     ]
    }
   ],
   "source": [
    "stacked_array = np.stack([array1, array2], axis=1)\n",
    "\n",
    "print(\"\\nResult after stacking along axis 1:\")\n",
    "print(stacked_array)\n"
   ]
  },
  {
   "cell_type": "markdown",
   "metadata": {},
   "source": [
    "        the resulting stacked_array has a shape of (3, 2, 4). The first dimension (3) corresponds to the number of arrays stacked, the second dimension (2) corresponds to the new axis along which the arrays are stacked, and the third dimension (4) matches the shape of the individual arrays."
   ]
  },
  {
   "cell_type": "code",
   "execution_count": 4,
   "metadata": {},
   "outputs": [],
   "source": [
    "# import numpy as np\n",
    "\n",
    "# # Create two arrays with the same shape (3x4)\n",
    "# array1 = np.array([[1, 2, 3, 4],\n",
    "#                    [5, 6, 7, 8],\n",
    "#                    [9, 10, 11, 12]])\n",
    "\n",
    "# array2 = np.array([[13, 14, 15, 16],\n",
    "#                    [17, 18, 19, 20],\n",
    "#                    [21, 22, 23, 24]])\n",
    "\n",
    "# # Stack the arrays along a new axis, flattening them first\n",
    "# stacked_array = np.stack([array1, array2], axis=None)\n",
    "\n",
    "# # Print the original arrays and the result\n",
    "# print(\"Array 1:\")\n",
    "# print(array1)\n",
    "\n",
    "# print(\"\\nArray 2:\")\n",
    "# print(array2)\n",
    "\n",
    "# print(\"\\nResult after stacking along axis (flattened):\")\n",
    "# print(stacked_array)\n"
   ]
  },
  {
   "cell_type": "markdown",
   "metadata": {},
   "source": [
    "It seems I made an error in my explanation. You are correct; using axis=None is not valid, and it results in a TypeError.\n",
    "\n",
    "If you want to flatten the arrays and then stack them into a 1D array, you can use np.concatenate with ravel():"
   ]
  },
  {
   "cell_type": "code",
   "execution_count": 5,
   "metadata": {},
   "outputs": [
    {
     "name": "stdout",
     "output_type": "stream",
     "text": [
      "Array 1:\n",
      "[[ 1  2  3  4]\n",
      " [ 5  6  7  8]\n",
      " [ 9 10 11 12]]\n",
      "\n",
      "Array 2:\n",
      "[[13 14 15 16]\n",
      " [17 18 19 20]\n",
      " [21 22 23 24]]\n",
      "\n",
      "Result after concatenating (flattened):\n",
      "[ 1  2  3  4  5  6  7  8  9 10 11 12 13 14 15 16 17 18 19 20 21 22 23 24]\n"
     ]
    }
   ],
   "source": [
    "import numpy as np\n",
    "\n",
    "# Create two arrays with the same shape (3x4)\n",
    "array1 = np.array([[1, 2, 3, 4],\n",
    "                   [5, 6, 7, 8],\n",
    "                   [9, 10, 11, 12]])\n",
    "\n",
    "array2 = np.array([[13, 14, 15, 16],\n",
    "                   [17, 18, 19, 20],\n",
    "                   [21, 22, 23, 24]])\n",
    "\n",
    "# Concatenate the flattened arrays\n",
    "stacked_array = np.concatenate([array1.ravel(), array2.ravel()])\n",
    "\n",
    "# Print the original arrays and the result\n",
    "print(\"Array 1:\")\n",
    "print(array1)\n",
    "\n",
    "print(\"\\nArray 2:\")\n",
    "print(array2)\n",
    "\n",
    "print(\"\\nResult after concatenating (flattened):\")\n",
    "print(stacked_array)\n"
   ]
  },
  {
   "cell_type": "markdown",
   "metadata": {},
   "source": [
    "        the ravel() function is used to flatten each 2D array (array1 and array2) into a 1D array. The purpose of flattening is to transform a multi-dimensional array into a one-dimensional array, where elements are arranged in a continuous sequence.\n",
    "\n",
    "Here's a breakdown of the relevant portion of the code:\n",
    "\n",
    "stacked_array = np.concatenate([array1.ravel(), array2.ravel()])\n",
    "\n",
    "\n",
    "    array1.ravel() and array2.ravel() both use the ravel() function to flatten the 2D arrays into 1D arrays.\n",
    "\n",
    "    np.concatenate is then used to concatenate (join) these flattened arrays along a new axis (by default, along the first axis, which is axis 0).\n",
    "\n",
    "The final result, stacked_array, is a 1D array that contains all the elements from array1 followed by all the elements from array2. The ravel() function is not strictly necessary in this case because np.concatenate can handle arrays of different dimensions. However, using ravel() explicitly emphasizes the intent to flatten the arrays, making the code more readable.\n",
    "\n",
    "Here's a simplified version without ravel():"
   ]
  },
  {
   "cell_type": "markdown",
   "metadata": {},
   "source": [
    "np.stack([array1, array2], axis=0) stacks the two arrays along a new axis (axis=0), resulting in a 3D array with shape (2, 3, 4). The first dimension (2) corresponds to the number of arrays stacked, and the remaining dimensions match the shape of the individual arrays.\n",
    "\n",
    "You can customize the axis parameter to stack arrays along different axes if needed."
   ]
  },
  {
   "cell_type": "code",
   "execution_count": 6,
   "metadata": {},
   "outputs": [
    {
     "name": "stdout",
     "output_type": "stream",
     "text": [
      "[[ 1  2  3  4]\n",
      " [ 5  6  7  8]\n",
      " [ 9 10 11 12]\n",
      " [13 14 15 16]\n",
      " [17 18 19 20]\n",
      " [21 22 23 24]]\n"
     ]
    }
   ],
   "source": [
    "stacked_array = np.concatenate([array1, array2])\n",
    "print(stacked_array)"
   ]
  },
  {
   "cell_type": "markdown",
   "metadata": {},
   "source": [
    "In this case, np.concatenate will concatenate the arrays along the first axis, effectively stacking them. However, it's common to use ravel() explicitly when flattening is intended for clarity and consistency in code."
   ]
  },
  {
   "cell_type": "markdown",
   "metadata": {},
   "source": []
  },
  {
   "cell_type": "code",
   "execution_count": 7,
   "metadata": {},
   "outputs": [
    {
     "name": "stdout",
     "output_type": "stream",
     "text": [
      "[array([[ 0.70441472, -0.54609821,  0.44750943],\n",
      "       [-0.98281514, -0.27608061,  0.94636634]]), array([[-0.27453956,  1.04850203, -1.04089301],\n",
      "       [ 2.11758993, -0.59995804,  1.07586468]]), array([[ 0.14104848,  0.05565059, -1.27894081],\n",
      "       [-0.49064575, -1.24915707,  0.78370247]]), array([[ 1.02816406,  1.15845943,  1.53145429],\n",
      "       [-1.88272344,  0.32883742, -0.1906882 ]]), array([[ 0.03382039, -0.81699031, -0.7912297 ],\n",
      "       [-0.69411391, -0.2709025 , -1.26786448]]), array([[ 0.41087988,  1.31904724, -0.41633712],\n",
      "       [-0.49054015,  0.16545945,  0.39043029]]), array([[ 1.94764435, -0.39350142,  0.01720242],\n",
      "       [-0.87934485,  1.01299382,  1.35483044]]), array([[ 1.33438361,  0.83421683,  0.20933603],\n",
      "       [-0.08606883,  0.64320563, -0.31524201]])] \n",
      "\n"
     ]
    },
    {
     "data": {
      "text/plain": [
       "(8, 2, 3)"
      ]
     },
     "execution_count": 7,
     "metadata": {},
     "output_type": "execute_result"
    }
   ],
   "source": [
    "import numpy as np\n",
    "arrays = [np.random.randn(2, 3)for _ in range(8)]\n",
    "print(arrays, '\\n')\n",
    "np.stack(arrays, axis=0).shape\n",
    "# print(arrays)"
   ]
  },
  {
   "cell_type": "markdown",
   "metadata": {},
   "source": [
    "    np.stack(arrays, axis=1).shape:\n",
    "\n",
    "    This line uses np.stack to stack the arrays in the list arrays along axis 1. The resulting shape is (2, 8, 3). This means that there are 2 arrays, each with a shape of (8, 3).\n",
    "\n",
    "    np.stack(arrays, axis=2).shape:\n",
    "\n",
    "    This line uses np.stack to stack the arrays along axis 2. The resulting shape is (2, 3, 8). This means that there are 2 arrays, each with a shape of (3, 8).\n",
    "\n",
    "    x = np.array([2, 3, 4]), y = np.array([3, 4, 5]), and np.stack((x, y)):\n",
    "\n",
    "    These lines create two 1D arrays x and y, each with length 3. Then, np.stack((x, y)) stacks them along a new axis (axis 0 by default), resulting in a 2D array with shape (2, 3)."
   ]
  },
  {
   "cell_type": "code",
   "execution_count": 15,
   "metadata": {},
   "outputs": [
    {
     "name": "stdout",
     "output_type": "stream",
     "text": [
      "Result after stacking along axis 1:\n",
      "[[[ 0.81596639  0.08288185  0.35452261]\n",
      "  [-0.40596768  0.82165221  0.13750855]]\n",
      "\n",
      " [[ 0.47914798  2.15075397  0.41630258]\n",
      "  [ 0.03185539  1.18274166 -0.5985299 ]]\n",
      "\n",
      " [[-2.43476854  0.95867049  0.53105052]\n",
      "  [-0.48755728  1.00365481 -0.59474492]]\n",
      "\n",
      " [[ 1.06110246 -0.96649869  0.93683857]\n",
      "  [ 1.09816886  0.45909041  0.5034984 ]]\n",
      "\n",
      " [[-0.85334095  0.28559004 -0.67370684]\n",
      "  [-0.29724123 -0.485882    1.87240289]]\n",
      "\n",
      " [[-0.3983351   0.21528958  0.82444597]\n",
      "  [-0.19914722  0.48586121 -1.43015485]]\n",
      "\n",
      " [[-0.69736551 -0.23597564 -0.62315131]\n",
      "  [ 1.92398084 -0.03109553 -0.4822946 ]]\n",
      "\n",
      " [[ 0.42057222  0.13862526 -0.14532714]\n",
      "  [ 0.29600163 -1.18656442  0.35256764]]]\n",
      "Shape: (8, 2, 3)\n",
      "\n",
      "Result after stacking along axis 2:\n",
      "[[[ 0.81596639 -0.40596768]\n",
      "  [ 0.08288185  0.82165221]\n",
      "  [ 0.35452261  0.13750855]]\n",
      "\n",
      " [[ 0.47914798  0.03185539]\n",
      "  [ 2.15075397  1.18274166]\n",
      "  [ 0.41630258 -0.5985299 ]]\n",
      "\n",
      " [[-2.43476854 -0.48755728]\n",
      "  [ 0.95867049  1.00365481]\n",
      "  [ 0.53105052 -0.59474492]]\n",
      "\n",
      " [[ 1.06110246  1.09816886]\n",
      "  [-0.96649869  0.45909041]\n",
      "  [ 0.93683857  0.5034984 ]]\n",
      "\n",
      " [[-0.85334095 -0.29724123]\n",
      "  [ 0.28559004 -0.485882  ]\n",
      "  [-0.67370684  1.87240289]]\n",
      "\n",
      " [[-0.3983351  -0.19914722]\n",
      "  [ 0.21528958  0.48586121]\n",
      "  [ 0.82444597 -1.43015485]]\n",
      "\n",
      " [[-0.69736551  1.92398084]\n",
      "  [-0.23597564 -0.03109553]\n",
      "  [-0.62315131 -0.4822946 ]]\n",
      "\n",
      " [[ 0.42057222  0.29600163]\n",
      "  [ 0.13862526 -1.18656442]\n",
      "  [-0.14532714  0.35256764]]]\n",
      "Shape: (8, 3, 2)\n",
      "\n",
      "Result after stacking 1D arrays:\n",
      "[[2 3 4]\n",
      " [3 4 5]]\n",
      "Shape: (2, 3)\n"
     ]
    }
   ],
   "source": [
    "import numpy as np\n",
    "\n",
    "# Create a list of arrays (each with shape (8, 3))\n",
    "arrays = [np.random.randn(8, 3) for _ in range(2)]\n",
    "\n",
    "# Stack arrays along axis 1\n",
    "result1 = np.stack(arrays, axis=1)\n",
    "print(\"Result after stacking along axis 1:\")\n",
    "print(result1)\n",
    "print(\"Shape:\", result1.shape)\n",
    "\n",
    "# Stack arrays along axis 2\n",
    "result2 = np.stack(arrays, axis=2)\n",
    "print(\"\\nResult after stacking along axis 2:\")\n",
    "print(result2)\n",
    "print(\"Shape:\", result2.shape)\n",
    "\n",
    "# Create two 1D arrays\n",
    "x = np.array([2, 3, 4])\n",
    "y = np.array([3, 4, 5])\n",
    "\n",
    "# Stack the 1D arrays along a new axis (axis 0 by default)\n",
    "result3 = np.stack((x, y))\n",
    "print(\"\\nResult after stacking 1D arrays:\")\n",
    "print(result3)\n",
    "print(\"Shape:\", result3.shape)\n"
   ]
  },
  {
   "cell_type": "markdown",
   "metadata": {},
   "source": [
    "    np.stack(arrays, axis=1).shape:\n",
    "        Stacking along axis 1 combines the arrays along the second axis (columns), resulting in a shape of (2, 8, 3). This means there are 2 arrays, each with 8 rows and 3 columns.\n",
    "\n",
    "    np.stack(arrays, axis=2).shape:\n",
    "        Stacking along axis 2 combines the arrays along the third axis (depth), resulting in a shape of (2, 3, 8). This means there are 2 arrays, each with 3 rows and 8 columns.\n",
    "\n",
    "For the case of np.stack((x, y)), where x and y are 1D arrays, the default behavior is to stack along a new axis (axis 0), resulting in a shape of (2, 3)."
   ]
  },
  {
   "cell_type": "markdown",
   "metadata": {},
   "source": [
    "# Stacking arrays in NumPy using the np.stack() function\n",
    "\n"
   ]
  },
  {
   "cell_type": "code",
   "execution_count": 8,
   "metadata": {},
   "outputs": [
    {
     "data": {
      "text/plain": [
       "array([[2, 3, 4],\n",
       "       [3, 4, 5]])"
      ]
     },
     "execution_count": 8,
     "metadata": {},
     "output_type": "execute_result"
    }
   ],
   "source": [
    "import numpy as np\n",
    "np.stack(arrays, axis=1).shape\n",
    "(2, 8, 3)\n",
    "\n",
    "np.stack(arrays, axis=2).shape\n",
    "(2, 3, 8)\n",
    "\n",
    "x = np.array([2, 3, 4])\n",
    "y = np.array([3, 4, 5])\n",
    "np.stack((x, y))"
   ]
  },
  {
   "cell_type": "markdown",
   "metadata": {},
   "source": [
    "Numpy numpy.stack() function with axis parameter\n",
    "\n"
   ]
  },
  {
   "cell_type": "code",
   "execution_count": 9,
   "metadata": {},
   "outputs": [
    {
     "data": {
      "text/plain": [
       "array([[2, 3, 4],\n",
       "       [3, 4, 5]])"
      ]
     },
     "execution_count": 9,
     "metadata": {},
     "output_type": "execute_result"
    }
   ],
   "source": [
    "import numpy as np\n",
    "x = np.array([2, 3, 4])\n",
    "y = np.array([3, 4, 5])\n",
    "np.stack((x, y))\n"
   ]
  },
  {
   "cell_type": "code",
   "execution_count": 10,
   "metadata": {},
   "outputs": [
    {
     "data": {
      "text/plain": [
       "array([[2, 3],\n",
       "       [3, 4],\n",
       "       [4, 5]])"
      ]
     },
     "execution_count": 10,
     "metadata": {},
     "output_type": "execute_result"
    }
   ],
   "source": [
    "np.stack((x, y), axis=-1)\n"
   ]
  },
  {
   "cell_type": "code",
   "execution_count": 11,
   "metadata": {},
   "outputs": [
    {
     "name": "stdout",
     "output_type": "stream",
     "text": [
      "Vertical stacking:\n",
      " [[1 2]\n",
      " [3 4]\n",
      " [5 6]\n",
      " [7 8]]\n",
      "\n",
      "Horizontal stacking:\n",
      " [[1 2 5 6]\n",
      " [3 4 7 8]]\n",
      "\n",
      "Column stacking:\n",
      " [[1 2 5]\n",
      " [3 4 6]]\n",
      "\n",
      "Concatenating to 2nd axis:\n",
      " [[1 2 5 6]\n",
      " [3 4 7 8]]\n"
     ]
    }
   ],
   "source": [
    "import numpy as np\n",
    "a = np.array([[1, 2],\n",
    "              [3, 4]])\n",
    "b = np.array([[5, 6],\n",
    "              [7, 8]])\n",
    "print(\"Vertical stacking:\\n\", np.vstack((a, b)))\n",
    "print(\"\\nHorizontal stacking:\\n\", np.hstack((a, b)))\n",
    "c = [5, 6]\n",
    "print(\"\\nColumn stacking:\\n\", np.column_stack((a, c)))\n",
    "print(\"\\nConcatenating to 2nd axis:\\n\", np.concatenate((a, b), 1))\n",
    "\n"
   ]
  },
  {
   "cell_type": "markdown",
   "metadata": {},
   "source": [
    "### Broadcasting"
   ]
  },
  {
   "cell_type": "markdown",
   "metadata": {},
   "source": [
    "In Mathematical operations, we may need to consider the arrays of different shapes. \n",
    "\n",
    "\n",
    "NumPy can perform such operations where the array of different shapes are involved.\n",
    "\n",
    "\n",
    "For example, if we consider the matrix multiplication operation, if the shape of the two matrices is the same then this operation will be easily performed. \n",
    "\n",
    "\n",
    "However, we may also need to operate if the shape is not similar.\n"
   ]
  },
  {
   "cell_type": "markdown",
   "metadata": {},
   "source": [
    "# Example - 1"
   ]
  },
  {
   "cell_type": "code",
   "execution_count": 12,
   "metadata": {},
   "outputs": [
    {
     "name": "stdout",
     "output_type": "stream",
     "text": [
      "[ 2  8 18 32 50 72 98]\n"
     ]
    }
   ],
   "source": [
    "import numpy as np  \n",
    "a = np.array([1,2,3,4,5,6,7])  \n",
    "b = np.array([2,4,6,8,10,12,14])  \n",
    "c = a*b;  \n",
    "print(c) "
   ]
  },
  {
   "cell_type": "markdown",
   "metadata": {},
   "source": [
    "# Example - 2"
   ]
  },
  {
   "cell_type": "code",
   "execution_count": 13,
   "metadata": {},
   "outputs": [
    {
     "ename": "ValueError",
     "evalue": "operands could not be broadcast together with shapes (7,) (8,) ",
     "output_type": "error",
     "traceback": [
      "\u001b[1;31m---------------------------------------------------------------------------\u001b[0m",
      "\u001b[1;31mValueError\u001b[0m                                Traceback (most recent call last)",
      "Cell \u001b[1;32mIn[13], line 4\u001b[0m\n\u001b[0;32m      2\u001b[0m a \u001b[38;5;241m=\u001b[39m np\u001b[38;5;241m.\u001b[39marray([\u001b[38;5;241m1\u001b[39m,\u001b[38;5;241m2\u001b[39m,\u001b[38;5;241m3\u001b[39m,\u001b[38;5;241m4\u001b[39m,\u001b[38;5;241m5\u001b[39m,\u001b[38;5;241m6\u001b[39m,\u001b[38;5;241m7\u001b[39m])  \n\u001b[0;32m      3\u001b[0m b \u001b[38;5;241m=\u001b[39m np\u001b[38;5;241m.\u001b[39marray([\u001b[38;5;241m2\u001b[39m,\u001b[38;5;241m4\u001b[39m,\u001b[38;5;241m6\u001b[39m,\u001b[38;5;241m8\u001b[39m,\u001b[38;5;241m10\u001b[39m,\u001b[38;5;241m12\u001b[39m,\u001b[38;5;241m14\u001b[39m,\u001b[38;5;241m19\u001b[39m])  \n\u001b[1;32m----> 4\u001b[0m c \u001b[38;5;241m=\u001b[39m \u001b[43ma\u001b[49m\u001b[38;5;241;43m*\u001b[39;49m\u001b[43mb\u001b[49m;  \n\u001b[0;32m      5\u001b[0m \u001b[38;5;28mprint\u001b[39m(c) \n",
      "\u001b[1;31mValueError\u001b[0m: operands could not be broadcast together with shapes (7,) (8,) "
     ]
    }
   ],
   "source": [
    "import numpy as np  \n",
    "a = np.array([1,2,3,4,5,6,7])  \n",
    "b = np.array([2,4,6,8,10,12,14,19])  \n",
    "c = a*b;  \n",
    "print(c) "
   ]
  },
  {
   "cell_type": "markdown",
   "metadata": {},
   "source": [
    "# Broadcasting Rules\n",
    "\n",
    "Broadcasting is possible if the following cases are satisfied.\n",
    "\n",
    "The smaller dimension array can be appended with '1' in its shape.\n",
    "\n",
    "Size of each output dimension is the maximum of the input sizes in the dimension.\n",
    "\n",
    "An input can be used in the calculation if its size in a particular dimension matches the output size or its value is exactly 1.\n",
    "\n",
    "If the input size is 1, then the first data entry is used for the calculation along the dimension."
   ]
  },
  {
   "cell_type": "markdown",
   "metadata": {},
   "source": [
    "Broadcasting can be applied to the arrays if the following rules are satisfied.\n",
    "\n",
    "All the input arrays have the same shape.\n",
    "\n",
    "Arrays have the same number of dimensions, and the length of each dimension is either a common length or 1.\n",
    "\n",
    "Array with the fewer dimension can be appended with '1' in its shape."
   ]
  },
  {
   "cell_type": "markdown",
   "metadata": {},
   "source": []
  },
  {
   "cell_type": "markdown",
   "metadata": {},
   "source": [
    "# Example -3\n"
   ]
  },
  {
   "cell_type": "markdown",
   "metadata": {},
   "source": []
  },
  {
   "cell_type": "code",
   "execution_count": 21,
   "metadata": {},
   "outputs": [
    {
     "name": "stdout",
     "output_type": "stream",
     "text": [
      "\n",
      "printing array a..\n",
      "[[ 1  2  3  4]\n",
      " [ 2  4  5  6]\n",
      " [10 20 39  3]]\n",
      "(3, 4)\n",
      "\n",
      "printing array b..\n",
      "[2 4 6 8]\n",
      "(4,)\n",
      "\n",
      "Adding arrays a and b ..\n",
      "[[ 3  6  9 12]\n",
      " [ 4  8 11 14]\n",
      " [12 24 45 11]]\n",
      "(3, 4)\n"
     ]
    }
   ],
   "source": [
    "\n",
    "import numpy as np  \n",
    "a = np.array([[1,2,3,4],[2,4,5,6],[10,20,39,3]])  \n",
    "b = np.array([2,4,6,8])  \n",
    "print(\"\\nprinting array a..\")  \n",
    "print(a)\n",
    "print(a.shape)\n",
    "\n",
    "\n",
    "print(\"\\nprinting array b..\")  \n",
    "print(b)  \n",
    "print(b.shape)\n",
    "print(\"\\nAdding arrays a and b ..\")  \n",
    "c = a + b;  \n",
    "print(c) \n",
    "print(c.shape)\n"
   ]
  },
  {
   "cell_type": "markdown",
   "metadata": {},
   "source": [
    "In order to broadcast, the size of the trailing axes for both arrays in an operation must either be the same size or one of them must be one."
   ]
  },
  {
   "cell_type": "code",
   "execution_count": null,
   "metadata": {},
   "outputs": [
    {
     "name": "stdout",
     "output_type": "stream",
     "text": [
      "[2. 4. 6.]\n",
      "[2. 4. 6.]\n"
     ]
    }
   ],
   "source": [
    "import numpy as np\n",
    "a = np.array([1.0, 2.0, 3.0])\n",
    "b = 2.0\n",
    "print(a * b)\n",
    "c = [2.0, 2.0, 2.0]\n",
    "print(a * c)"
   ]
  },
  {
   "cell_type": "markdown",
   "metadata": {},
   "source": [
    "numpy. newaxis is used to increase the dimension of the existing array by one more dimension, when used once. Thus, 1D array will become 2D array."
   ]
  },
  {
   "cell_type": "code",
   "execution_count": null,
   "metadata": {},
   "outputs": [
    {
     "name": "stdout",
     "output_type": "stream",
     "text": [
      "[[ 0.  1.  2.]\n",
      " [10. 11. 12.]\n",
      " [20. 21. 22.]\n",
      " [30. 31. 32.]]\n"
     ]
    }
   ],
   "source": [
    "import numpy as np \n",
    "a = np.array([0.0, 10.0, 20.0, 30.0])\n",
    "b = np.array([0.0, 1.0, 2.0])\n",
    "print(a[:, np.newaxis] + b)"
   ]
  },
  {
   "cell_type": "markdown",
   "metadata": {},
   "source": [
    "NumPy allows the subtraction of two Datetime values, an operation which produces a number with a time unit. ...\n",
    "\n",
    "The arguments for timedelta64 are a number, to represent the number of units, and a date/time unit, such as (D)ay, (M)onth, (Y)ear, (h)ours, (m)inutes, or (s)econds.\n",
    "\n",
    "Example:"
   ]
  },
  {
   "cell_type": "code",
   "execution_count": null,
   "metadata": {},
   "outputs": [
    {
     "name": "stdout",
     "output_type": "stream",
     "text": [
      "Date is: 2017-02-12\n",
      "Year is: 2017\n"
     ]
    }
   ],
   "source": [
    "import numpy as np\n",
    "today = np.datetime64('2017-02-12')\n",
    "print(\"Date is:\", today)\n",
    "print(\"Year is:\", np.datetime64(today, 'Y'))\n",
    "dates = np.arange('2017-02', '2017-03', dtype='datetime64[D]')"
   ]
  },
  {
   "cell_type": "code",
   "execution_count": null,
   "metadata": {},
   "outputs": [
    {
     "name": "stdout",
     "output_type": "stream",
     "text": [
      "\n",
      "Dates of February, 2017:\n",
      " ['2017-02-01' '2017-02-02' '2017-02-03' '2017-02-04' '2017-02-05'\n",
      " '2017-02-06' '2017-02-07' '2017-02-08' '2017-02-09' '2017-02-10'\n",
      " '2017-02-11' '2017-02-12' '2017-02-13' '2017-02-14' '2017-02-15'\n",
      " '2017-02-16' '2017-02-17' '2017-02-18' '2017-02-19' '2017-02-20'\n",
      " '2017-02-21' '2017-02-22' '2017-02-23' '2017-02-24' '2017-02-25'\n",
      " '2017-02-26' '2017-02-27' '2017-02-28']\n",
      "Today is February: True\n",
      "\n",
      "No. of days: 365 days\n",
      "No. of weeks: 52 weeks\n",
      "\n",
      "Dates in sorted order: ['2016-10-13' '2017-02-12' '2019-05-22']\n"
     ]
    }
   ],
   "source": [
    "print(\"\\nDates of February, 2017:\\n\", dates)\n",
    "print(\"Today is February:\", today in dates)\n",
    "dur = np.datetime64('2017-05-22') - np.datetime64('2016-05-22')\n",
    "print(\"\\nNo. of days:\", dur)\n",
    "print(\"No. of weeks:\", np.timedelta64(dur, 'W'))\n",
    "a = np.array(['2017-02-12', '2016-10-13', '2019-05-22'], dtype='datetime64')\n",
    "print(\"\\nDates in sorted order:\", np.sort(a))"
   ]
  },
  {
   "cell_type": "markdown",
   "metadata": {},
   "source": [
    "### Example1:\n"
   ]
  },
  {
   "cell_type": "code",
   "execution_count": null,
   "metadata": {},
   "outputs": [
    {
     "name": "stdout",
     "output_type": "stream",
     "text": [
      "\n",
      " A sequential array with a negative step: \n",
      " [10  8  6  4  2]\n",
      "\n",
      " Elements at these indices are:\n",
      " [4 8 6]\n"
     ]
    }
   ],
   "source": [
    "import numpy as np\n",
    "a = np.arange(10, 1, -2)\n",
    "print(\"\\n A sequential array with a negative step: \\n\",a)\n",
    "newarr = a[np.array([3, 1, 2 ])]\n",
    "print(\"\\n Elements at these indices are:\\n\",newarr)\n"
   ]
  },
  {
   "cell_type": "markdown",
   "metadata": {},
   "source": [
    "### Example2:\n"
   ]
  },
  {
   "cell_type": "code",
   "execution_count": null,
   "metadata": {},
   "outputs": [
    {
     "name": "stdout",
     "output_type": "stream",
     "text": [
      "\n",
      " Elements are : \n",
      " [2 4 7]\n"
     ]
    }
   ],
   "source": [
    "x = np.array([1, 2, 3, 4, 5, 6, 7, 8, 9])\n",
    "arr = x[np.array([1, 3, -3])]\n",
    "print(\"\\n Elements are : \\n\",arr)\n"
   ]
  },
  {
   "cell_type": "markdown",
   "metadata": {},
   "source": [
    "### Example3:\n"
   ]
  },
  {
   "cell_type": "code",
   "execution_count": null,
   "metadata": {},
   "outputs": [
    {
     "name": "stdout",
     "output_type": "stream",
     "text": [
      "[1 3 6]\n"
     ]
    }
   ],
   "source": [
    "import numpy as np\n",
    "a = np.array([[1 ,2 ],[3 ,4 ],[5 ,6 ]])\n",
    "print(a[[0 ,1 ,2 ],[0 ,0 ,1]])"
   ]
  },
  {
   "cell_type": "code",
   "execution_count": null,
   "metadata": {},
   "outputs": [],
   "source": []
  }
 ],
 "metadata": {
  "kernelspec": {
   "display_name": "venv",
   "language": "python",
   "name": "python3"
  },
  "language_info": {
   "codemirror_mode": {
    "name": "ipython",
    "version": 3
   },
   "file_extension": ".py",
   "mimetype": "text/x-python",
   "name": "python",
   "nbconvert_exporter": "python",
   "pygments_lexer": "ipython3",
   "version": "3.12.1"
  }
 },
 "nbformat": 4,
 "nbformat_minor": 2
}
