{
 "cells": [
  {
   "cell_type": "code",
   "execution_count": 10,
   "metadata": {},
   "outputs": [
    {
     "name": "stdout",
     "output_type": "stream",
     "text": [
      "hello\n"
     ]
    }
   ],
   "source": [
    "print(\"hello\")"
   ]
  },
  {
   "cell_type": "markdown",
   "metadata": {},
   "source": [
    "# Numpy - Mathematical Functions."
   ]
  },
  {
   "cell_type": "markdown",
   "metadata": {},
   "source": [
    "Numpy contains a large number of mathematical functions which can be used to perform various mathematical operations. \n",
    "\n",
    "The mathematical functions include trigonometric functions, arithmetic functions, and functions for handling complex numbers. \n",
    "\n",
    "Trigonometric functions\n",
    "\n",
    "Numpy contains the trigonometric functions which are used to calculate the sine, cosine, and tangent of the different angles in radian.\n",
    "\n",
    "The sin, cos, and tan functions return the trigonometric ratio for the specified angles.\n"
   ]
  },
  {
   "cell_type": "code",
   "execution_count": 11,
   "metadata": {},
   "outputs": [
    {
     "name": "stdout",
     "output_type": "stream",
     "text": [
      "\n",
      "The sin value of the angles [0.00000000e+00 5.00000000e-01 8.66025404e-01 1.00000000e+00\n",
      " 8.66025404e-01 5.00000000e-01 1.22464680e-16]\n",
      "\n",
      "The cosine value of the angles [ 1.00000000e+00  8.66025404e-01  5.00000000e-01  6.12323400e-17\n",
      " -5.00000000e-01 -8.66025404e-01 -1.00000000e+00]\n",
      "\n",
      "The tangent value of the angles [ 0.00000000e+00  5.77350269e-01  1.73205081e+00  1.63312394e+16\n",
      " -1.73205081e+00 -5.77350269e-01 -1.22464680e-16]\n"
     ]
    }
   ],
   "source": [
    "import numpy as np  \n",
    "arr = np.array([0, 30, 60, 90, 120, 150, 180])  \n",
    "print(\"\\nThe sin value of the angles\",end = \" \")  \n",
    "print(np.sin(arr * np.pi/180))  \n",
    "print(\"\\nThe cosine value of the angles\",end = \" \")  \n",
    "print(np.cos(arr * np.pi/180))  \n",
    "print(\"\\nThe tangent value of the angles\",end = \" \")  \n",
    "print(np.tan(arr * np.pi/180)) "
   ]
  },
  {
   "cell_type": "markdown",
   "metadata": {},
   "source": [
    "On the other hand, arcsin(), arccos(), and arctan() functions return the trigonometric inverse of the specified angles.\n",
    "\n",
    "The numpy.degrees() function can be used to verify the result of these trigonometric functions. "
   ]
  },
  {
   "cell_type": "code",
   "execution_count": 12,
   "metadata": {},
   "outputs": [
    {
     "name": "stdout",
     "output_type": "stream",
     "text": [
      "printing the sin values of different angles\n",
      "[0.        0.5       0.8660254 1.       ]\n",
      "printing the inverse of the sin\n",
      "[0.         0.52359878 1.04719755 1.57079633]\n",
      "printing the values in degrees\n",
      "[ 0. 30. 60. 90.]\n",
      "\n",
      "printing the cos values of different angles\n",
      "[1.00000000e+00 8.66025404e-01 5.00000000e-01 6.12323400e-17]\n"
     ]
    }
   ],
   "source": [
    "import numpy as np  \n",
    "arr = np.array([0, 30, 60, 90])  \n",
    "print(\"printing the sin values of different angles\")   \n",
    "sinval = np.sin(arr*np.pi/180)   \n",
    "print(sinval)  \n",
    "print(\"printing the inverse of the sin\")  \n",
    "cosec = np.arcsin(sinval)  \n",
    "print(cosec)  \n",
    "print(\"printing the values in degrees\")  \n",
    "print(np.degrees(cosec))  \n",
    "print(\"\\nprinting the cos values of different angles\")  \n",
    "cosval = np.cos(arr*np.pi/180)   \n",
    "print(cosval)  "
   ]
  },
  {
   "cell_type": "code",
   "execution_count": 13,
   "metadata": {},
   "outputs": [
    {
     "name": "stdout",
     "output_type": "stream",
     "text": [
      "printing the inverse of the cos\n",
      "[0.         0.52359878 1.04719755 1.57079633]\n",
      "\n",
      "printing the values in degrees\n",
      "[ 0. 30. 60. 90.]\n",
      "\n",
      "printing the tan values of different angles\n",
      "[0.00000000e+00 5.77350269e-01 1.73205081e+00 1.63312394e+16]\n",
      "printing the inverse of the tan\n",
      "[0.         0.52359878 1.04719755 1.57079633]\n",
      "\n",
      "printing the values in degrees\n",
      "[ 0. 30. 60. 90.]\n"
     ]
    }
   ],
   "source": [
    "print(\"printing the inverse of the cos\")  \n",
    "sec = np.arccos(cosval)  \n",
    "print(sec)    \n",
    "\n",
    "print(\"\\nprinting the values in degrees\")  \n",
    "print(np.degrees(sec))    \n",
    "\n",
    "print(\"\\nprinting the tan values of different angles\")  \n",
    "tanval = np.tan(arr*np.pi/180)  \n",
    "print(tanval)  \n",
    "print(\"printing the inverse of the tan\")  \n",
    "cot = np.arctan(tanval)  \n",
    "print(cot)    \n",
    "\n",
    "print(\"\\nprinting the values in degrees\")  \n",
    "print(np.degrees(cot)) \n",
    "\n"
   ]
  },
  {
   "cell_type": "markdown",
   "metadata": {},
   "source": [
    "# Rounding Functions\n",
    "\n",
    "The numpy provides various functions that can be used to truncate the value of a decimal float number rounded to a particular precision of decimal numbers. Let's discuss the rounding functions.\n",
    "\n",
    "The numpy.around() function\n",
    "\n",
    "This function returns a decimal value rounded to a desired position of the decimal. The syntax of the function is given below.\n",
    "\n",
    "numpy.around(num, decimals) \n"
   ]
  },
  {
   "cell_type": "code",
   "execution_count": 14,
   "metadata": {},
   "outputs": [
    {
     "data": {
      "text/plain": [
       "45.7646"
      ]
     },
     "execution_count": 14,
     "metadata": {},
     "output_type": "execute_result"
    }
   ],
   "source": [
    "import numpy as np\n",
    "np.around(45.76456, 4)"
   ]
  },
  {
   "cell_type": "code",
   "execution_count": 15,
   "metadata": {},
   "outputs": [
    {
     "name": "stdout",
     "output_type": "stream",
     "text": [
      "printing the original array values: [ 12.202   90.2312 123.02    23.202 ]\n",
      "Array values rounded off to 2 decimal position [ 12.2   90.23 123.02  23.2 ]\n",
      "Array values rounded off to -1 decimal position [ 10.  90. 120.  20.]\n"
     ]
    }
   ],
   "source": [
    "import numpy as np  \n",
    "arr = np.array([12.202, 90.23120, 123.020, 23.202])  \n",
    "print(\"printing the original array values:\",end = \" \")  \n",
    "print(arr)  \n",
    "print(\"Array values rounded off to 2 decimal position\",np.around(arr, 2))  \n",
    "print(\"Array values rounded off to -1 decimal position\",np.around(arr, -1)) "
   ]
  },
  {
   "cell_type": "markdown",
   "metadata": {},
   "source": [
    "# numpy.floor() function\n",
    "\n",
    "This function is used to return the floor value of the input data which is the largest integer not greater than the input value. Consider the following example."
   ]
  },
  {
   "cell_type": "code",
   "execution_count": 16,
   "metadata": {},
   "outputs": [
    {
     "name": "stdout",
     "output_type": "stream",
     "text": [
      "[ 12.  90. 123.  23.]\n"
     ]
    }
   ],
   "source": [
    "import numpy as np  \n",
    "arr = np.array([12.202, 90.23120, 123.020, 23.202])  \n",
    "print(np.floor(arr)) "
   ]
  },
  {
   "cell_type": "markdown",
   "metadata": {},
   "source": [
    "# numpy.ceil()\n",
    "\n",
    "This function is used to return the ceiling value of the array values which is the smallest integer value greater than the array element. Consider the following example."
   ]
  },
  {
   "cell_type": "code",
   "execution_count": 17,
   "metadata": {},
   "outputs": [
    {
     "name": "stdout",
     "output_type": "stream",
     "text": [
      "[ 13.  91. 124.  24.]\n"
     ]
    }
   ],
   "source": [
    "import numpy as np  \n",
    "arr = np.array([12.202, 90.23120, 123.020, 23.202])  \n",
    "print(np.ceil(arr)) "
   ]
  },
  {
   "cell_type": "markdown",
   "metadata": {},
   "source": [
    "# unary operator"
   ]
  },
  {
   "cell_type": "code",
   "execution_count": 18,
   "metadata": {},
   "outputs": [
    {
     "name": "stdout",
     "output_type": "stream",
     "text": [
      "Largest element is: 9\n",
      "Row-wise maximum elements: [6 7 9]\n",
      "Column-wise minimum elements: [1 1 2]\n",
      "Sum of all array elements: 38\n",
      "Cumulative sum along each row:\n",
      " [[ 1  6 12]\n",
      " [ 4 11 13]\n",
      " [ 3  4 13]]\n"
     ]
    }
   ],
   "source": [
    "import numpy as np\n",
    "arr = np.array([[1, 5, 6],\n",
    "                [4, 7, 2],\n",
    "                [3, 1, 9]])\n",
    "print (\"Largest element is:\", arr.max())\n",
    "print (\"Row-wise maximum elements:\", arr.max(axis = 1))\n",
    "print (\"Column-wise minimum elements:\", arr.min(axis = 0))\n",
    "print (\"Sum of all array elements:\", arr.sum())\n",
    "print (\"Cumulative sum along each row:\\n\", arr.cumsum(axis = 1)) \n",
    "#  cumsum means cumilative sum like compound intererest."
   ]
  },
  {
   "cell_type": "code",
   "execution_count": 19,
   "metadata": {},
   "outputs": [
    {
     "name": "stdout",
     "output_type": "stream",
     "text": [
      "Array sum:\n",
      " [[5 5]\n",
      " [5 5]]\n",
      "Array multiplication:\n",
      " [[4 6]\n",
      " [6 4]]\n",
      "Matrix multiplication:\n",
      " [[ 8  5]\n",
      " [20 13]]\n"
     ]
    }
   ],
   "source": [
    "import numpy as np\n",
    "a = np.array([[1, 2],\n",
    "            [3, 4]])\n",
    "b = np.array([[4, 3],\n",
    "            [2, 1]])\n",
    "print (\"Array sum:\\n\", a + b)\n",
    "print (\"Array multiplication:\\n\", a*b)\n",
    "print (\"Matrix multiplication:\\n\", a.dot(b))"
   ]
  },
  {
   "cell_type": "markdown",
   "metadata": {},
   "source": [
    "# universal functions:"
   ]
  },
  {
   "cell_type": "code",
   "execution_count": 20,
   "metadata": {},
   "outputs": [
    {
     "name": "stdout",
     "output_type": "stream",
     "text": [
      "Sine values of array elements: [0.0000000e+00 1.0000000e+00 1.2246468e-16]\n",
      "Exponent of array elements: [ 1.          2.71828183  7.3890561  20.08553692]\n",
      "Square root of array elements: [0.         1.         1.41421356 1.73205081]\n"
     ]
    }
   ],
   "source": [
    "import numpy as np\n",
    "a = np.array([0, np.pi/2, np.pi])\n",
    "print (\"Sine values of array elements:\", np.sin(a))\n",
    "a = np.array([0, 1, 2, 3])\n",
    "print (\"Exponent of array elements:\", np.exp(a))\n",
    "print (\"Square root of array elements:\", np.sqrt(a))"
   ]
  },
  {
   "cell_type": "code",
   "execution_count": 21,
   "metadata": {},
   "outputs": [],
   "source": [
    "# help(np.sort)"
   ]
  },
  {
   "cell_type": "code",
   "execution_count": 22,
   "metadata": {},
   "outputs": [
    {
     "name": "stdout",
     "output_type": "stream",
     "text": [
      "Array elements in sorted order:\n",
      " [-1  0  1  2  3  4  4  5  6]\n",
      "Row-wise sorted array:\n",
      " [[ 1  2  4]\n",
      " [ 3  4  6]\n",
      " [-1  0  5]]\n",
      "Column wise sort by applying merge-sort:\n",
      " [[ 0 -1  2]\n",
      " [ 1  4  5]\n",
      " [ 3  4  6]]\n"
     ]
    }
   ],
   "source": [
    "import numpy as np\n",
    "a = np.array([[1, 4, 2],\n",
    "                 [3, 4, 6],\n",
    "              [0, -1, 5]])\n",
    "print (\"Array elements in sorted order:\\n\", np.sort(a, axis = None))\n",
    "print (\"Row-wise sorted array:\\n\", np.sort(a, axis = 1))\n",
    "print (\"Column wise sort by applying merge-sort:\\n\", np.sort(a, axis = 0, kind = 'mergesort'))\n"
   ]
  },
  {
   "cell_type": "code",
   "execution_count": 23,
   "metadata": {},
   "outputs": [
    {
     "name": "stdout",
     "output_type": "stream",
     "text": [
      "Normal array [[1 5 6]\n",
      " [4 7 2]\n",
      " [3 1 9]] \n",
      "\n",
      "\n",
      "Array sorted by names:\n",
      " [(b'Aakash', 2009, 9. ) (b'Ajay', 2008, 8.7) (b'Hrithik', 2009, 8.5)\n",
      " (b'Pankaj', 2008, 7.9)]\n",
      "Array sorted by grauation year and then cgpa:\n",
      " [(b'Pankaj', 2008, 7.9) (b'Ajay', 2008, 8.7) (b'Hrithik', 2009, 8.5)\n",
      " (b'Aakash', 2009, 9. )]\n"
     ]
    }
   ],
   "source": [
    "dtypes = [('name', 'S10'), ('grad_year', int), ('cgpa', float)] # s10 means string with a mxa length of 10 characters.\n",
    "values = [('Hrithik', 2009, 8.5), ('Ajay', 2008, 8.7), ('Pankaj', 2008, 7.9), ('Aakash', 2009, 9.0)]     \n",
    "print('Normal array',arr,'\\n')\n",
    "arr = np.array(values, dtype = dtypes)\n",
    "print (\"\\nArray sorted by names:\\n\",np.sort(arr, order = 'name'))\n",
    "print (\"Array sorted by grauation year and then cgpa:\\n\",np.sort(arr, order = ['grad_year', 'cgpa']))\n",
    "\n"
   ]
  },
  {
   "cell_type": "markdown",
   "metadata": {},
   "source": [
    "# Sorting array: There is a simple np.sort method for sorting NumPy arrays. \n"
   ]
  },
  {
   "cell_type": "code",
   "execution_count": 24,
   "metadata": {},
   "outputs": [
    {
     "name": "stdout",
     "output_type": "stream",
     "text": [
      "Array elements in sorted order:\n",
      " [-1  0  1  2  3  4  4  5  6]\n",
      "Row-wise sorted array:\n",
      " [[ 1  2  4]\n",
      " [ 3  4  6]\n",
      " [-1  0  5]]\n",
      "Column wise sort by applying merge-sort:\n",
      " [[ 0 -1  2]\n",
      " [ 1  4  5]\n",
      " [ 3  4  6]]\n"
     ]
    }
   ],
   "source": [
    "import numpy as np\n",
    "a = np.array([[1, 4, 2],\n",
    "                 [3, 4, 6],\n",
    "              [0, -1, 5]])\n",
    "print (\"Array elements in sorted order:\\n\",np.sort(a, axis = None))\n",
    "print (\"Row-wise sorted array:\\n\",np.sort(a, axis = 1))\n",
    "print (\"Column wise sort by applying merge-sort:\\n\", np.sort(a, axis = 0, kind = 'mergesort'))\n"
   ]
  },
  {
   "cell_type": "code",
   "execution_count": 25,
   "metadata": {},
   "outputs": [
    {
     "name": "stdout",
     "output_type": "stream",
     "text": [
      "\n",
      "Array sorted by names:\n",
      " [(b'Aakash', 2009, 9. ) (b'Ajay', 2008, 8.7) (b'Hrithik', 2009, 8.5)\n",
      " (b'Pankaj', 2008, 7.9)]\n",
      "Array sorted by grauation year and then cgpa:\n",
      " [(b'Pankaj', 2008, 7.9) (b'Ajay', 2008, 8.7) (b'Hrithik', 2009, 8.5)\n",
      " (b'Aakash', 2009, 9. )]\n"
     ]
    }
   ],
   "source": [
    "dtypes = [('name', 'S10'), ('grad_year', int), ('cgpa', float)]\n",
    "values = [('Hrithik', 2009, 8.5), ('Ajay', 2008, 8.7), ('Pankaj', 2008, 7.9), ('Aakash', 2009, 9.0)]\n",
    "arr = np.array(values, dtype = dtypes)\n",
    "print (\"\\nArray sorted by names:\\n\",np.sort(arr, order = 'name'))     \n",
    "print (\"Array sorted by grauation year and then cgpa:\\n\",np.sort(arr, order = ['grad_year', 'cgpa']))"
   ]
  },
  {
   "cell_type": "code",
   "execution_count": null,
   "metadata": {},
   "outputs": [],
   "source": []
  }
 ],
 "metadata": {
  "kernelspec": {
   "display_name": "venv",
   "language": "python",
   "name": "python3"
  },
  "language_info": {
   "codemirror_mode": {
    "name": "ipython",
    "version": 3
   },
   "file_extension": ".py",
   "mimetype": "text/x-python",
   "name": "python",
   "nbconvert_exporter": "python",
   "pygments_lexer": "ipython3",
   "version": "3.12.1"
  }
 },
 "nbformat": 4,
 "nbformat_minor": 2
}
