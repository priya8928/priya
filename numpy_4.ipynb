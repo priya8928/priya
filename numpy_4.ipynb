{
 "cells": [
  {
   "cell_type": "code",
   "execution_count": 1,
   "metadata": {},
   "outputs": [
    {
     "name": "stdout",
     "output_type": "stream",
     "text": [
      "hello world\n"
     ]
    }
   ],
   "source": [
    "print(\"hello world\")"
   ]
  },
  {
   "cell_type": "markdown",
   "metadata": {},
   "source": [
    "# Join, Split, Search, Sort, Filter"
   ]
  },
  {
   "cell_type": "code",
   "execution_count": 30,
   "metadata": {},
   "outputs": [],
   "source": [
    "# import numpy as np\n",
    "\n",
    "# help(np.char.join)"
   ]
  },
  {
   "cell_type": "markdown",
   "metadata": {},
   "source": [
    "## Join"
   ]
  },
  {
   "cell_type": "markdown",
   "metadata": {},
   "source": [
    "The join() function is used to add a separator character or string to any given string or to all the elements of the given array of strings. \n",
    "\n",
    "If you have a string \"STUDY\" and you want to use \"-\" as separator character, then using the join() function the output will be \"S-T-U-D-Y\".\n",
    "\n",
    "This function basically calls str.join function internally on every element of the array.\n",
    "\n",
    "Syntax of numpy.char.join():\n",
    "The syntax required to use this function is as follows:\n",
    "\n",
    "\t\tnumpy.char.join(sep, seq)\n",
    "The above syntax indicates that join() function takes two parameters."
   ]
  },
  {
   "cell_type": "markdown",
   "metadata": {},
   "source": [
    "### parameters"
   ]
  },
  {
   "cell_type": "markdown",
   "metadata": {},
   "source": [
    "sep\n",
    "This argument represents an array of string/characters used as the separator characters.\n",
    "\n",
    "seq\n",
    "This argument indicates the input array or string on which the operation will be performed.\n",
    "\n",
    "Returned Values:\n",
    "\n",
    "This function returns an output array of either string or Unicode with the joined elements."
   ]
  },
  {
   "cell_type": "markdown",
   "metadata": {},
   "source": [
    "# Example -1"
   ]
  },
  {
   "cell_type": "code",
   "execution_count": 4,
   "metadata": {},
   "outputs": [
    {
     "name": "stdout",
     "output_type": "stream",
     "text": [
      "The Joined string in the output:\n",
      "D:G\n"
     ]
    }
   ],
   "source": [
    "import numpy as np\n",
    "   \n",
    "a = np.char.join(':','DG')\n",
    "print(\"The Joined string in the output:\")\n",
    "print(a)\n",
    "\n",
    "# a = np.char.join(':','DGJSDFHKJDSFHK')\n",
    "# print(\"The Joined string in the output:\")\n",
    "# print(a)"
   ]
  },
  {
   "cell_type": "markdown",
   "metadata": {},
   "source": [
    "# Example -2"
   ]
  },
  {
   "cell_type": "markdown",
   "metadata": {},
   "source": [
    "With an Array of String\n",
    "\n",
    "We will use join() function on the array of strings with unique separator for each string element of the array."
   ]
  },
  {
   "cell_type": "code",
   "execution_count": 6,
   "metadata": {},
   "outputs": [
    {
     "name": "stdout",
     "output_type": "stream",
     "text": [
      "The original Input array : \n",
      " ['Apple' 'Python' 'NumPy' 'StudyTonight']\n",
      "The Output joined array:  ['A^p^p^l^e' 'P+y+t+h+o+n' 'N*u*m*P*y' 'S-t-u-d-y-T-o-n-i-g-h-t']\n"
     ]
    }
   ],
   "source": [
    "import numpy as np\n",
    "\n",
    "inp = np.array(['Apple', 'Python', 'NumPy','StudyTonight']) \n",
    "print (\"The original Input array : \\n\", inp) \n",
    "\n",
    "sep = np.array(['^', '+', '*','-']) \n",
    "\n",
    "output= np.char.join(sep, inp) \n",
    "print (\"The Output joined array: \", output) "
   ]
  },
  {
   "cell_type": "markdown",
   "metadata": {},
   "source": [
    "# Example -3\n",
    "\n",
    "In this example, we will use a single separator string for all the string elements of the given array."
   ]
  },
  {
   "cell_type": "code",
   "execution_count": 7,
   "metadata": {},
   "outputs": [
    {
     "name": "stdout",
     "output_type": "stream",
     "text": [
      "The original Input array : \n",
      " ['Apple' 'Python' 'NumPy' 'StudyTonight']\n",
      "The Output joined array:  ['A^^^p^^^p^^^l^^^e' 'P^^^y^^^t^^^h^^^o^^^n' 'N^^^u^^^m^^^P^^^y'\n",
      " 'S^^^t^^^u^^^d^^^y^^^T^^^o^^^n^^^i^^^g^^^h^^^t']\n"
     ]
    }
   ],
   "source": [
    "import numpy as np\n",
    "\n",
    "inp = np.array(['Apple', 'Python', 'NumPy','StudyTonight']) \n",
    "print (\"The original Input array : \\n\", inp) \n",
    "\n",
    "sep = np.array(['^^^']) \n",
    "\n",
    "output= np.char.join(sep, inp) \n",
    "print (\"The Output joined array: \", output) "
   ]
  },
  {
   "cell_type": "markdown",
   "metadata": {},
   "source": [
    "# Split\n",
    "\n",
    "\n",
    "The split() function is used to return a list of strings after breaking the input string by the specified separator(sep).\n",
    "\n",
    "This function usually calls str.split internally on every element of the array.\n",
    "\n",
    "Syntax of numpy.char.split():\n",
    "The syntax required to use this function is as follows:\n",
    "\n",
    "\tnumpy.char.split(a, sep=None, maxsplit=None)\n",
    "\n",
    "The above syntax indicates that split() function takes two parameters."
   ]
  },
  {
   "cell_type": "markdown",
   "metadata": {},
   "source": [
    "Parameters:\n",
    "\n",
    "\n",
    "a\n",
    "This parameter indicates the input string or the input array of strings\n",
    "\n",
    "sep\n",
    "It can be string or Unicode(single character). If sep is not specified or it is None then by default the whitespace string is used as a separator.\n",
    "\n",
    "maxsplit\n",
    "It is an integer and If it is given, at most maxsplit splits are done.\n",
    "\n",
    "Returned Values:\n",
    "\n",
    "This function will return an array of the list of splitted string values as an output.\n"
   ]
  },
  {
   "cell_type": "code",
   "execution_count": 29,
   "metadata": {},
   "outputs": [],
   "source": [
    "# help(np.char.split)"
   ]
  },
  {
   "cell_type": "markdown",
   "metadata": {},
   "source": [
    "### Example 1: With a simple string"
   ]
  },
  {
   "cell_type": "code",
   "execution_count": 8,
   "metadata": {},
   "outputs": [
    {
     "name": "stdout",
     "output_type": "stream",
     "text": [
      "The input is :\n",
      " How you doing?\n",
      "after applying split() method output is:\n",
      " ['How', 'you', 'doing?']\n"
     ]
    }
   ],
   "source": [
    "import numpy as np\n",
    "\n",
    "a = \"How you doing?\"\n",
    "print(\"The input is :\\n\",a)\n",
    "\n",
    "y = np.char.split(a)\n",
    "print(\"after applying split() method output is:\\n\",y)\n",
    "\n",
    "\n",
    "# a = \"How you doing? hia hello welcometo the world ofengin eering\"\n",
    "# print(\"The input is :\\n\",a)\n",
    "\n",
    "# y = np.char.split(a)\n",
    "# print(\"after applying split() method output is:\\n\",y)"
   ]
  },
  {
   "cell_type": "markdown",
   "metadata": {},
   "source": [
    "### Example 2: With maxsplit Parameter\n",
    "\n",
    "We will use the maxsplit parameter of the split() function. We will try to split the given string based on comma(,) and you will see although there are 2 commas in the complete string, the string will be split only once, because we have provided the maxsplit parameter value as 1."
   ]
  },
  {
   "cell_type": "code",
   "execution_count": 23,
   "metadata": {},
   "outputs": [
    {
     "name": "stdout",
     "output_type": "stream",
     "text": [
      "The String is:\n",
      " We, very happily, welcome you all!\n",
      "The output is: ['We', ' very happily, welcome you all!']\n"
     ]
    }
   ],
   "source": [
    "import numpy as np\n",
    "\n",
    "x = \"We, very happily, welcome you all!\"\n",
    "print(\"The String is:\\n\", x)\n",
    "\n",
    "out = np.char.split(x, sep=',', maxsplit=1)\n",
    "print(\"The output is:\", out)\n",
    "\n",
    "# out = np.char.split(x, sep=',', maxsplit=2)\n",
    "# print(\"The output is:\", out)\n",
    "\n",
    "\n",
    "# out = np.char.split(x, maxsplit=3)\n",
    "# print(\"The output is:\", out)\n",
    "\n",
    "\n",
    "# out = np.char.split(x, maxsplit=5)\n",
    "# print(\"The output is:\", out)"
   ]
  },
  {
   "cell_type": "markdown",
   "metadata": {},
   "source": [
    "### Example 3: With array of string\n",
    "\n",
    "We will apply the split() method on an array of strings."
   ]
  },
  {
   "cell_type": "code",
   "execution_count": 26,
   "metadata": {},
   "outputs": [
    {
     "name": "stdout",
     "output_type": "stream",
     "text": [
      "The original Input array : \n",
      " ['Dance-Tonight' 'Sleep-Tonight' 'Walk-Tonight' 'Study-Tonight']\n",
      "The output split array:  [list(['Dance', 'Tonight']) list(['Sleep', 'Tonight'])\n",
      " list(['Walk', 'Tonight']) list(['Study', 'Tonight'])]\n",
      "The original Input array : \n",
      " Dance-Tonight Sleep-Tonight Walk-Tonight Study-Tonight\n",
      "The output split array:  ['Dance', 'Tonight Sleep', 'Tonight Walk', 'Tonight Study-Tonight']\n"
     ]
    }
   ],
   "source": [
    "import numpy as np\n",
    "\n",
    "inp = np.array(['Dance-Tonight', 'Sleep-Tonight', 'Walk-Tonight','Study-Tonight']) \n",
    "print (\"The original Input array : \\n\", inp) \n",
    "\n",
    "output= np.char.split(inp, sep='-', maxsplit=1)\n",
    "print (\"The output split array: \", output)\n",
    "\n",
    "\n",
    "# inp1 = np.array('Dance-Tonight Sleep-Tonight Walk-Tonight Study-Tonight') \n",
    "# print (\"The original Input array : \\n\", inp1) \n",
    "\n",
    "# output= np.char.split(inp1, sep='-', maxsplit=1)\n",
    "# print (\"The output split array: \", output)\n",
    "\n",
    "\n",
    "\n",
    "# inp1 = np.array('Dance-Tonight Sleep-Tonight Walk-Tonight Study-Tonight') \n",
    "# print (\"The original Input array : \\n\", inp1) \n",
    "\n",
    "# output= np.char.split(inp1, sep='-', maxsplit=3)\n",
    "# print (\"The output split array: \", output)\n"
   ]
  },
  {
   "cell_type": "code",
   "execution_count": 33,
   "metadata": {},
   "outputs": [],
   "source": [
    "# help(np.where)"
   ]
  },
  {
   "cell_type": "markdown",
   "metadata": {},
   "source": [
    "# Search"
   ]
  },
  {
   "cell_type": "markdown",
   "metadata": {},
   "source": [
    "We can search for a specific value using the numpy.where() method. This method returns the index where the specific element is found.\n"
   ]
  },
  {
   "cell_type": "code",
   "execution_count": 31,
   "metadata": {},
   "outputs": [
    {
     "name": "stdout",
     "output_type": "stream",
     "text": [
      "[10 20 30 40 50 30]\n",
      "Iterating array...\n",
      "10\n",
      "20\n",
      "30\n",
      "40\n",
      "50\n",
      "30\n",
      "\n",
      "Element 30 found at following indexes:\n",
      "(array([2, 5], dtype=int64),)\n"
     ]
    }
   ],
   "source": [
    "import numpy as np\n",
    "n = np.array([10, 20, 30, 40, 50, 30])\n",
    "print(n)\n",
    "print(\"Iterating array...\")\n",
    "for a in n:\n",
    "    print(a)\n",
    "res = np.where(n == 30)\n",
    "print(\"\\nElement 30 found at following indexes:\")\n",
    "print(res)"
   ]
  },
  {
   "cell_type": "code",
   "execution_count": 35,
   "metadata": {},
   "outputs": [],
   "source": [
    "# help(np.sort)"
   ]
  },
  {
   "cell_type": "markdown",
   "metadata": {},
   "source": [
    "# Sort"
   ]
  },
  {
   "cell_type": "markdown",
   "metadata": {},
   "source": [
    "We require a sorted array for computation. For this purpose, the numpy module of Python provides a function called numpy.sort(). This function gives a sorted copy of the source array or input array."
   ]
  },
  {
   "cell_type": "markdown",
   "metadata": {},
   "source": [
    "Syntax:\n",
    "\tnumpy.sort(a, axis=-1, kind='quicksort', order=None)  \n",
    "Parameters:\n",
    "\tx: array_like\n",
    "\n",
    "This parameter defines the source array, which is going to be sorted."
   ]
  },
  {
   "cell_type": "markdown",
   "metadata": {},
   "source": [
    "Example 1:\n"
   ]
  },
  {
   "cell_type": "code",
   "execution_count": 37,
   "metadata": {},
   "outputs": [
    {
     "name": "stdout",
     "output_type": "stream",
     "text": [
      "[[ 1  4  2  3]\n",
      " [ 9 13 61  1]\n",
      " [43 24 88 22]] \n",
      "\n",
      "[[ 1  2  3  4]\n",
      " [ 1  9 13 61]\n",
      " [22 24 43 88]]\n"
     ]
    }
   ],
   "source": [
    "import numpy as np  \n",
    "x=np.array([[1,4,2,3],[9,13,61,1],[43,24,88,22]])  \n",
    "print(x, '\\n')  \n",
    "y=np.sort(x)  \n",
    "print(y) "
   ]
  },
  {
   "cell_type": "markdown",
   "metadata": {},
   "source": [
    "Example 2:\n"
   ]
  },
  {
   "cell_type": "code",
   "execution_count": 39,
   "metadata": {},
   "outputs": [
    {
     "name": "stdout",
     "output_type": "stream",
     "text": [
      "[[ 1  4  2  3]\n",
      " [ 9 13 61  1]\n",
      " [43 24 88 22]] \n",
      "\n",
      "[ 1  1  2  3  4  9 13 22 24 43 61 88]\n"
     ]
    }
   ],
   "source": [
    "import numpy as np  \n",
    "x=np.array([[1,4,2,3],[9,13,61,1],[43,24,88,22]])  \n",
    "print(x, '\\n')  \n",
    "y=np.sort(x, axis=None)  \n",
    "print(y) "
   ]
  },
  {
   "cell_type": "markdown",
   "metadata": {},
   "source": [
    "Example 3:\n"
   ]
  },
  {
   "cell_type": "code",
   "execution_count": 41,
   "metadata": {},
   "outputs": [
    {
     "name": "stdout",
     "output_type": "stream",
     "text": [
      "[[ 1  4  2  3]\n",
      " [ 9 13 61  1]\n",
      " [43 24 88 22]] \n",
      "\n",
      "[[ 1  4  2  1]\n",
      " [ 9 13 61  3]\n",
      " [43 24 88 22]] \n",
      "\n",
      "[[ 1  2  3  4]\n",
      " [ 1  9 13 61]\n",
      " [22 24 43 88]]\n"
     ]
    }
   ],
   "source": [
    "import numpy as np  \n",
    "x=np.array([[1,4,2,3],[9,13,61,1],[43,24,88,22]])  \n",
    "print(x, '\\n')  \n",
    "y=np.sort(x,axis=0)  \n",
    "print(y, '\\n')  \n",
    "z=np.sort(x,axis=1)  \n",
    "print(z) "
   ]
  },
  {
   "cell_type": "markdown",
   "metadata": {},
   "source": [
    "Example 4:\n",
    "\n"
   ]
  },
  {
   "cell_type": "code",
   "execution_count": 43,
   "metadata": {},
   "outputs": [
    {
     "name": "stdout",
     "output_type": "stream",
     "text": [
      "[(b'Shubham', 5.9, 23, b'M') (b'Arpita', 5.6, 23, b'F')\n",
      " (b'Vaishali', 5.2, 30, b'F')] \n",
      "\n",
      "[(b'Arpita', 5.6, 23, b'F') (b'Shubham', 5.9, 23, b'M')\n",
      " (b'Vaishali', 5.2, 30, b'F')] \n",
      "\n",
      "[(b'Arpita', 5.6, 23, b'F') (b'Shubham', 5.9, 23, b'M')\n",
      " (b'Vaishali', 5.2, 30, b'F')] \n",
      "\n"
     ]
    }
   ],
   "source": [
    "import numpy as np  \n",
    "dtype = [('name', 'S10'), ('height', float), ('age', int),('gender','S10')]  \n",
    "values = [('Shubham', 5.9, 23, 'M'), ('Arpita', 5.6, 23, 'F'),('Vaishali', 5.2, 30, 'F')]  \n",
    "x=np.array(values, dtype=dtype)  \n",
    "print(x, '\\n')  \n",
    "y=np.sort(x, order='age')  \n",
    "print(y, '\\n')  \n",
    "z=np.sort(x, order=['age','height'])  \n",
    "print(z, '\\n') \n"
   ]
  },
  {
   "cell_type": "code",
   "execution_count": null,
   "metadata": {},
   "outputs": [],
   "source": [
    "help(np.filter)"
   ]
  },
  {
   "cell_type": "markdown",
   "metadata": {},
   "source": [
    "# Filter"
   ]
  },
  {
   "cell_type": "markdown",
   "metadata": {},
   "source": [
    "Getting some elements out of an existing array and creating a new array out of them is called filtering.\n",
    "\n",
    "In NumPy, you filter an array using a boolean index list.\n",
    "\n",
    "A boolean index list is a list of booleans corresponding to indexes in the array.\n",
    "\n",
    "If the value at an index is True that element is contained in the filtered array, if the value at that index is False that element is excluded from the filtered array.\n",
    "\n",
    "Method 1: Filter Values Based on One Condition\n",
    "\n",
    "#filter for values less than 5\n",
    "\n",
    "my_array[my_array < 5]\n",
    "\n",
    "Method 2: Filter Values Using “OR” Condition\n",
    "\n",
    "#filter for values less than 5 or greater than 9\n",
    "my_array[(my_array < 5) | (my_array > 9)]\n",
    "\n",
    "Method 3: Filter Values Using “AND” Condition\n",
    "\n",
    "#filter for values greater than 5 and less than 9\n",
    "my_array[(my_array > 5) & (my_array < 9)]\n",
    "\n",
    "Method 4: Filter Values Contained in List\n",
    "\n",
    "#filter for values that are equal to 2, 3, 5, or 12\n",
    "my_array[np.in1d(my_array, [2, 3, 5, 12])]"
   ]
  },
  {
   "cell_type": "markdown",
   "metadata": {},
   "source": [
    "# Try to use this code."
   ]
  },
  {
   "cell_type": "markdown",
   "metadata": {},
   "source": [
    "In NumPy, you can use boolean indexing as a way to filter elements from an array based on a certain condition. Here's a simple example demonstrating how to use boolean indexing to filter elements:"
   ]
  },
  {
   "cell_type": "markdown",
   "metadata": {},
   "source": []
  },
  {
   "cell_type": "code",
   "execution_count": 45,
   "metadata": {},
   "outputs": [
    {
     "name": "stdout",
     "output_type": "stream",
     "text": [
      "Original array:\n",
      "[ 1  2  3  4  5  6  7  8  9 10]\n",
      "\n",
      "Filtered array (elements greater than 5):\n",
      "[ 6  7  8  9 10]\n"
     ]
    }
   ],
   "source": [
    "import numpy as np\n",
    "\n",
    "# Create a NumPy array\n",
    "arr = np.array([1, 2, 3, 4, 5, 6, 7, 8, 9, 10])\n",
    "\n",
    "# Define a condition to filter elements (e.g., elements greater than 5)\n",
    "condition = arr > 5\n",
    "\n",
    "# Use boolean indexing to filter elements based on the condition\n",
    "filtered_arr = arr[condition]\n",
    "\n",
    "# Print the original array\n",
    "print(\"Original array:\")\n",
    "print(arr)\n",
    "\n",
    "# Print the filtered array\n",
    "print(\"\\nFiltered array (elements greater than 5):\")\n",
    "print(filtered_arr)\n"
   ]
  },
  {
   "cell_type": "markdown",
   "metadata": {},
   "source": [
    "In this example, arr > 5 creates a boolean array where each element is True if the corresponding element in arr is greater than 5 and False otherwise. This boolean array is then used for boolean indexing, which selects only the elements from the original array that correspond to True values in the boolean array.\n",
    "\n",
    "You can customize the condition based on your specific filtering criteria. Boolean indexing provides a flexible and efficient way to filter elements in NumPy arrays."
   ]
  },
  {
   "cell_type": "markdown",
   "metadata": {},
   "source": [
    "# In Pandas, you can use boolean indexing to filter rows from a DataFrame based on a certain condition. Here's an example:"
   ]
  },
  {
   "cell_type": "markdown",
   "metadata": {},
   "source": []
  },
  {
   "cell_type": "code",
   "execution_count": 49,
   "metadata": {},
   "outputs": [
    {
     "name": "stdout",
     "output_type": "stream",
     "text": [
      "Original DataFrame:\n",
      "      Name  Age  Salary\n",
      "0    Alice   25   50000\n",
      "1      Bob   30   60000\n",
      "2  Charlie   22   45000\n",
      "3    David   35   70000\n",
      "4    Emily   28   55000\n",
      "\n",
      "Filtered DataFrame (rows with Age greater than 25):\n",
      "    Name  Age  Salary\n",
      "1    Bob   30   60000\n",
      "3  David   35   70000\n",
      "4  Emily   28   55000\n"
     ]
    }
   ],
   "source": [
    "import pandas as pd\n",
    "\n",
    "# Create a sample DataFrame\n",
    "data = {'Name': ['Alice', 'Bob', 'Charlie', 'David', 'Emily'],\n",
    "        'Age': [25, 30, 22, 35, 28],\n",
    "        'Salary': [50000, 60000, 45000, 70000, 55000]}\n",
    "\n",
    "df = pd.DataFrame(data)\n",
    "\n",
    "# Display the original DataFrame\n",
    "print(\"Original DataFrame:\")\n",
    "print(df)\n",
    "\n",
    "# Define a condition to filter rows (e.g., rows with Age greater than 25)\n",
    "condition = df['Age'] > 25\n",
    "\n",
    "# Use boolean indexing to filter rows based on the condition\n",
    "\n",
    "# filtered_df = df[condition]\n",
    "\n",
    "# or\n",
    "\n",
    "filtered_df = df[df['Age']> 25]\n",
    "\n",
    "# Display the filtered DataFrame\n",
    "print(\"\\nFiltered DataFrame (rows with Age greater than 25):\")\n",
    "print(filtered_df)\n"
   ]
  },
  {
   "cell_type": "markdown",
   "metadata": {},
   "source": [
    "In this example, df['Age'] > 25 creates a boolean Series where each element is True if the corresponding age is greater than 25 and False otherwise. This boolean Series is then used for boolean indexing, which selects only the rows from the original DataFrame where the condition is True.\n",
    "\n",
    "You can customize the condition based on your specific filtering criteria. Boolean indexing is a powerful feature in Pandas for filtering and selecting data based on conditions."
   ]
  },
  {
   "cell_type": "markdown",
   "metadata": {},
   "source": []
  }
 ],
 "metadata": {
  "kernelspec": {
   "display_name": "venv",
   "language": "python",
   "name": "python3"
  },
  "language_info": {
   "codemirror_mode": {
    "name": "ipython",
    "version": 3
   },
   "file_extension": ".py",
   "mimetype": "text/x-python",
   "name": "python",
   "nbconvert_exporter": "python",
   "pygments_lexer": "ipython3",
   "version": "3.12.1"
  }
 },
 "nbformat": 4,
 "nbformat_minor": 2
}
