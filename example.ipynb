{
 "cells": [
  {
   "cell_type": "code",
   "execution_count": 2,
   "metadata": {},
   "outputs": [
    {
     "name": "stdout",
     "output_type": "stream",
     "text": [
      "get current directory in string format: c:\\Users\\student\\Desktop\\day4\n",
      "get current directory in byte string format: b'c:\\\\Users\\\\student\\\\Desktop\\\\day4'\n"
     ]
    }
   ],
   "source": [
    "import os\n",
    "print(\"get current directory in string format:\",os.getcwd())\n",
    "print(\"get current directory in byte string format:\",os.getcwdb())\n"
   ]
  },
  {
   "cell_type": "code",
   "execution_count": 6,
   "metadata": {},
   "outputs": [
    {
     "name": "stdout",
     "output_type": "stream",
     "text": [
      "current initial directory is: c:\\Users\\student\\Desktop\\day4\n"
     ]
    }
   ],
   "source": [
    "import os\n",
    "print(\"current initial directory is:\",os.getcwd())\n"
   ]
  },
  {
   "cell_type": "code",
   "execution_count": 7,
   "metadata": {},
   "outputs": [
    {
     "name": "stdout",
     "output_type": "stream",
     "text": [
      "current directory is changed to: c:\\Users\\student\\Desktop\\ICT\n"
     ]
    }
   ],
   "source": [
    "os.chdir(\"c:/Users/student/Desktop/ICT\")\n",
    "print(\"current directory is changed to:\",os.getcwd())"
   ]
  },
  {
   "cell_type": "code",
   "execution_count": 8,
   "metadata": {},
   "outputs": [
    {
     "name": "stdout",
     "output_type": "stream",
     "text": [
      "the files incurrent  working directory are ['example.ipynb', 'requirements.txt', 'venv']\n"
     ]
    }
   ],
   "source": [
    "print(\"the files incurrent  working directory are\",os.listdir(os.getcwd()))"
   ]
  },
  {
   "cell_type": "code",
   "execution_count": 9,
   "metadata": {},
   "outputs": [
    {
     "name": "stdout",
     "output_type": "stream",
     "text": [
      "current directory is changed to: c:\\Users\\student\\Desktop\\day4\n"
     ]
    }
   ],
   "source": [
    "os.chdir(\"c:/Users/student/Desktop/day4\")\n",
    "print(\"current directory is changed to:\",os.getcwd())"
   ]
  },
  {
   "cell_type": "code",
   "execution_count": 11,
   "metadata": {},
   "outputs": [],
   "source": [
    "dir=\"welcome\"\n",
    "path=\"c:/Users/student/Desktop/day4\"\n"
   ]
  },
  {
   "cell_type": "code",
   "execution_count": 12,
   "metadata": {},
   "outputs": [],
   "source": [
    "new_path=os.path.join(path,dir)\n",
    "os.mkdir(new_path)"
   ]
  },
  {
   "cell_type": "code",
   "execution_count": 13,
   "metadata": {},
   "outputs": [],
   "source": [
    "os.rename('welcome','welcome1')"
   ]
  },
  {
   "cell_type": "code",
   "execution_count": 14,
   "metadata": {},
   "outputs": [
    {
     "name": "stdout",
     "output_type": "stream",
     "text": [
      "oldlist: [[1, 2, 3], [4, 5, 6], [7, 8, 9]]\n",
      "ID of oldlist 2397046540224\n",
      "newlist: [[1, 2, 3], [4, 5, 6], [7, 8, 9]]\n",
      "ID of newlist 2397046540224\n"
     ]
    }
   ],
   "source": [
    "oldlist=[[1,2,3],[4,5,6],[7,8,'a']]\n",
    "newlist = oldlist\n",
    "newlist[2][2] = 9\n",
    "print('oldlist:',oldlist)\n",
    "print('ID of oldlist',id(oldlist))\n",
    "print('newlist:',newlist)\n",
    "print('ID of newlist',id(newlist))"
   ]
  },
  {
   "cell_type": "markdown",
   "metadata": {},
   "source": [
    "CALL BY REFERENCE"
   ]
  },
  {
   "cell_type": "code",
   "execution_count": 27,
   "metadata": {},
   "outputs": [],
   "source": [
    "def add_more(mylist):\n",
    "    mylist.append(50)\n",
    "    print(\"Inside Function\",mylist)"
   ]
  },
  {
   "cell_type": "code",
   "execution_count": 20,
   "metadata": {},
   "outputs": [
    {
     "name": "stdout",
     "output_type": "stream",
     "text": [
      "Inside Function [10, 20, 30, 50]\n"
     ]
    }
   ],
   "source": [
    "mylist = [10,20,30]\n",
    "add_more(mylist)"
   ]
  },
  {
   "cell_type": "code",
   "execution_count": 19,
   "metadata": {},
   "outputs": [
    {
     "name": "stdout",
     "output_type": "stream",
     "text": [
      "Outside Function [10, 20, 30, 50]\n"
     ]
    }
   ],
   "source": [
    "print(\"Outside Function\",mylist)"
   ]
  },
  {
   "cell_type": "markdown",
   "metadata": {},
   "source": [
    "VARIABLE LENGTH KEYWORD ARGUMENTS"
   ]
  },
  {
   "cell_type": "code",
   "execution_count": 28,
   "metadata": {},
   "outputs": [],
   "source": [
    "def myfunc(**kwargs):\n",
    "    for key, value in kwargs.items():\n",
    "        print('%s == %s' % (key, value))"
   ]
  },
  {
   "cell_type": "code",
   "execution_count": 29,
   "metadata": {},
   "outputs": [
    {
     "name": "stdout",
     "output_type": "stream",
     "text": [
      "first == Hello\n",
      "mid == Salut\n",
      "last == Hola\n"
     ]
    }
   ],
   "source": [
    "myfunc(first='Hello',mid='Salut',last='Hola')"
   ]
  },
  {
   "cell_type": "markdown",
   "metadata": {},
   "source": [
    "OPERATOR"
   ]
  },
  {
   "cell_type": "code",
   "execution_count": 34,
   "metadata": {},
   "outputs": [],
   "source": [
    "class Eg:\n",
    "    def __init__(self,a):\n",
    "        self.a = a\n",
    "    def __gt__(self, other):\n",
    "        return self.a > other.a"
   ]
  },
  {
   "cell_type": "code",
   "execution_count": 35,
   "metadata": {},
   "outputs": [
    {
     "name": "stdout",
     "output_type": "stream",
     "text": [
      "False\n"
     ]
    }
   ],
   "source": [
    "obj1 = Eg(1)\n",
    "obj2 = Eg(2)\n",
    "print(obj1 > obj2)"
   ]
  },
  {
   "cell_type": "code",
   "execution_count": 38,
   "metadata": {},
   "outputs": [],
   "source": [
    "def func(name):\n",
    "    print(\"Name :\",name)   "
   ]
  },
  {
   "cell_type": "code",
   "execution_count": 39,
   "metadata": {},
   "outputs": [
    {
     "name": "stdout",
     "output_type": "stream",
     "text": [
      "Name : Priya\n"
     ]
    }
   ],
   "source": [
    "func('Priya')"
   ]
  },
  {
   "cell_type": "code",
   "execution_count": 41,
   "metadata": {},
   "outputs": [
    {
     "name": "stdout",
     "output_type": "stream",
     "text": [
      "Priya\n"
     ]
    }
   ],
   "source": [
    "def func():\n",
    "    print(\"Priya\") \n",
    "func()"
   ]
  },
  {
   "cell_type": "code",
   "execution_count": 42,
   "metadata": {},
   "outputs": [],
   "source": [
    "class Person:\n",
    "    def __init__(self,name,age):\n",
    "        self.name = name\n",
    "        self.age = age"
   ]
  },
  {
   "cell_type": "code",
   "execution_count": 43,
   "metadata": {},
   "outputs": [],
   "source": [
    "p1 = Person(\"Priya\",21)"
   ]
  },
  {
   "cell_type": "code",
   "execution_count": 44,
   "metadata": {},
   "outputs": [
    {
     "name": "stdout",
     "output_type": "stream",
     "text": [
      "Priya\n",
      "21\n"
     ]
    }
   ],
   "source": [
    "print(p1.name)\n",
    "print(p1.age)"
   ]
  },
  {
   "cell_type": "code",
   "execution_count": 46,
   "metadata": {},
   "outputs": [],
   "source": [
    "class Person:\n",
    "    def __str__(self,name,age):\n",
    "        return self.name + self.age"
   ]
  },
  {
   "cell_type": "code",
   "execution_count": 47,
   "metadata": {},
   "outputs": [
    {
     "name": "stdout",
     "output_type": "stream",
     "text": [
      "<__main__.person object at 0x0000022E1B072DF0>\n"
     ]
    }
   ],
   "source": [
    "print(p1)"
   ]
  },
  {
   "cell_type": "markdown",
   "metadata": {},
   "source": [
    "A CLASS WITH CONSTRUCTOR AND FUNCTIONS"
   ]
  },
  {
   "cell_type": "code",
   "execution_count": 66,
   "metadata": {},
   "outputs": [],
   "source": [
    "class Person:\n",
    "    def __init__(self,name,age):\n",
    "        self.name = name\n",
    "        self.age = age\n",
    "    def myfunc(self):\n",
    "        print(\"Hello , my name is\" + self.name)\n",
    "        # print(self.age)"
   ]
  },
  {
   "cell_type": "code",
   "execution_count": 67,
   "metadata": {},
   "outputs": [
    {
     "name": "stdout",
     "output_type": "stream",
     "text": [
      "Hello , my name is Priya\n"
     ]
    }
   ],
   "source": [
    "p1 = Person(\" Priya\",21)\n",
    "p1.myfunc()"
   ]
  },
  {
   "cell_type": "code",
   "execution_count": 68,
   "metadata": {},
   "outputs": [],
   "source": [
    "del p1.age"
   ]
  },
  {
   "cell_type": "code",
   "execution_count": 69,
   "metadata": {},
   "outputs": [
    {
     "name": "stdout",
     "output_type": "stream",
     "text": [
      "Hello , my name is Priya\n"
     ]
    }
   ],
   "source": [
    "p1.myfunc()"
   ]
  }
 ],
 "metadata": {
  "kernelspec": {
   "display_name": "Python 3",
   "language": "python",
   "name": "python3"
  },
  "language_info": {
   "codemirror_mode": {
    "name": "ipython",
    "version": 3
   },
   "file_extension": ".py",
   "mimetype": "text/x-python",
   "name": "python",
   "nbconvert_exporter": "python",
   "pygments_lexer": "ipython3",
   "version": "3.9.6"
  }
 },
 "nbformat": 4,
 "nbformat_minor": 2
}
