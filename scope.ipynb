{
 "cells": [
  {
   "cell_type": "code",
   "execution_count": 3,
   "metadata": {},
   "outputs": [
    {
     "name": "stdout",
     "output_type": "stream",
     "text": [
      "the number is:  1\n"
     ]
    }
   ],
   "source": [
    "num = 0\n",
    "def demo():\n",
    "    #print(num)\n",
    "    num = 1\n",
    "    print(\"the number is: \",num)\n",
    "demo()"
   ]
  },
  {
   "cell_type": "code",
   "execution_count": 5,
   "metadata": {},
   "outputs": [
    {
     "name": "stdout",
     "output_type": "stream",
     "text": [
      "You are cute\n"
     ]
    }
   ],
   "source": [
    "def demo():\n",
    "    print(Str)\n",
    "Str = \"You are cute\"\n",
    "demo()\n"
   ]
  },
  {
   "cell_type": "code",
   "execution_count": 7,
   "metadata": {},
   "outputs": [
    {
     "name": "stdout",
     "output_type": "stream",
     "text": [
      "inner : nonlocal\n",
      "outer : nonlocal\n"
     ]
    }
   ],
   "source": [
    "def func_out():\n",
    "    x=\"local\"\n",
    "    def func_in():\n",
    "        nonlocal x\n",
    "        x=\"nonlocal\"\n",
    "        print(\"inner :\",x)\n",
    "    func_in()\n",
    "    print(\"outer :\",x)\n",
    "func_out()"
   ]
  },
  {
   "cell_type": "code",
   "execution_count": 8,
   "metadata": {},
   "outputs": [
    {
     "ename": "UnboundLocalError",
     "evalue": "local variable 'roll_no' referenced before assignment",
     "output_type": "error",
     "traceback": [
      "\u001b[1;31m---------------------------------------------------------------------------\u001b[0m",
      "\u001b[1;31mUnboundLocalError\u001b[0m                         Traceback (most recent call last)",
      "Cell \u001b[1;32mIn[8], line 6\u001b[0m\n\u001b[0;32m      4\u001b[0m     roll_no\u001b[38;5;241m=\u001b[39mroll_no\u001b[38;5;241m+\u001b[39m\u001b[38;5;241m2\u001b[39m\n\u001b[0;32m      5\u001b[0m     \u001b[38;5;28mprint\u001b[39m(\u001b[38;5;124m'\u001b[39m\u001b[38;5;124mcorrect student rool_no:\u001b[39m\u001b[38;5;124m'\u001b[39m,roll_no)\n\u001b[1;32m----> 6\u001b[0m \u001b[43mdisplay\u001b[49m\u001b[43m(\u001b[49m\u001b[43m)\u001b[49m\n",
      "Cell \u001b[1;32mIn[8], line 4\u001b[0m, in \u001b[0;36mdisplay\u001b[1;34m()\u001b[0m\n\u001b[0;32m      3\u001b[0m \u001b[38;5;28;01mdef\u001b[39;00m \u001b[38;5;21mdisplay\u001b[39m():\n\u001b[1;32m----> 4\u001b[0m     roll_no\u001b[38;5;241m=\u001b[39m\u001b[43mroll_no\u001b[49m\u001b[38;5;241m+\u001b[39m\u001b[38;5;241m2\u001b[39m\n\u001b[0;32m      5\u001b[0m     \u001b[38;5;28mprint\u001b[39m(\u001b[38;5;124m'\u001b[39m\u001b[38;5;124mcorrect student rool_no:\u001b[39m\u001b[38;5;124m'\u001b[39m,roll_no)\n",
      "\u001b[1;31mUnboundLocalError\u001b[0m: local variable 'roll_no' referenced before assignment"
     ]
    }
   ],
   "source": [
    "stud='Priya'\n",
    "roll_no=27\n",
    "def display():\n",
    "    roll_no=roll_no+2\n",
    "    print('correct student rool_no:',roll_no)\n",
    "display()"
   ]
  },
  {
   "cell_type": "code",
   "execution_count": 10,
   "metadata": {},
   "outputs": [
    {
     "name": "stdout",
     "output_type": "stream",
     "text": [
      "correct student rool_no: 29\n"
     ]
    }
   ],
   "source": [
    "stud='Priya'\n",
    "roll_no=27\n",
    "def display():\n",
    "    global roll_no\n",
    "    roll_no=roll_no+2\n",
    "    print('correct student rool_no:',roll_no)\n",
    "display()"
   ]
  },
  {
   "cell_type": "code",
   "execution_count": 12,
   "metadata": {},
   "outputs": [
    {
     "name": "stdout",
     "output_type": "stream",
     "text": [
      "10\n",
      "20\n",
      "30\n"
     ]
    }
   ],
   "source": [
    "global_var = 10\n",
    "def out_func():\n",
    "    out_var = 20\n",
    "    def in_func():\n",
    "        in_var = 30\n",
    "        print(in_var)\n",
    "    print(out_var)\n",
    "    in_func()\n",
    "print(global_var)\n",
    "out_func()\n"
   ]
  },
  {
   "cell_type": "code",
   "execution_count": null,
   "metadata": {},
   "outputs": [],
   "source": []
  }
 ],
 "metadata": {
  "kernelspec": {
   "display_name": "Python 3",
   "language": "python",
   "name": "python3"
  },
  "language_info": {
   "codemirror_mode": {
    "name": "ipython",
    "version": 3
   },
   "file_extension": ".py",
   "mimetype": "text/x-python",
   "name": "python",
   "nbconvert_exporter": "python",
   "pygments_lexer": "ipython3",
   "version": "3.9.6"
  }
 },
 "nbformat": 4,
 "nbformat_minor": 2
}
