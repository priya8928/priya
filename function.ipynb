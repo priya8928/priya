{
 "cells": [
  {
   "cell_type": "markdown",
   "metadata": {},
   "source": [
    "FUNCTIONS WITH ARGUMENTS"
   ]
  },
  {
   "cell_type": "code",
   "execution_count": 2,
   "metadata": {},
   "outputs": [
    {
     "name": "stdout",
     "output_type": "stream",
     "text": [
      "Priya Darshini P\n"
     ]
    }
   ],
   "source": [
    "def saranathan():\n",
    "    print(\"Priya Darshini P\")\n",
    "saranathan()"
   ]
  },
  {
   "cell_type": "code",
   "execution_count": 5,
   "metadata": {},
   "outputs": [
    {
     "name": "stdout",
     "output_type": "stream",
     "text": [
      "You are cute\n"
     ]
    }
   ],
   "source": [
    "def addtwostr():\n",
    "    str1=\"You are\"\n",
    "    str2=\" cute\"\n",
    "    str=str1+str2\n",
    "    print(str)\n",
    "addtwostr()"
   ]
  },
  {
   "cell_type": "code",
   "execution_count": 9,
   "metadata": {},
   "outputs": [],
   "source": [
    "def saranathan(name):\n",
    "    print(\"Name:\",name)"
   ]
  },
  {
   "cell_type": "code",
   "execution_count": 10,
   "metadata": {},
   "outputs": [
    {
     "name": "stdout",
     "output_type": "stream",
     "text": [
      "Name: Priya Darshini P\n"
     ]
    }
   ],
   "source": [
    "saranathan('Priya Darshini P')"
   ]
  },
  {
   "cell_type": "markdown",
   "metadata": {},
   "source": [
    "FUNCTION WITH ARGUMENTS AND DEFAULT VALUE"
   ]
  },
  {
   "cell_type": "code",
   "execution_count": 11,
   "metadata": {},
   "outputs": [
    {
     "name": "stdout",
     "output_type": "stream",
     "text": [
      "Name: Saranathan\n"
     ]
    }
   ],
   "source": [
    "def saranathan(name='Saranathan'):\n",
    "    print(\"Name:\",name)\n"
   ]
  },
  {
   "cell_type": "code",
   "execution_count": 12,
   "metadata": {},
   "outputs": [
    {
     "name": "stdout",
     "output_type": "stream",
     "text": [
      "Name: Saranathan\n"
     ]
    }
   ],
   "source": [
    "saranathan()"
   ]
  },
  {
   "cell_type": "code",
   "execution_count": 13,
   "metadata": {},
   "outputs": [
    {
     "name": "stdout",
     "output_type": "stream",
     "text": [
      "Name: Priya Darshini P\n"
     ]
    }
   ],
   "source": [
    "saranathan('Priya Darshini P')"
   ]
  },
  {
   "cell_type": "markdown",
   "metadata": {},
   "source": [
    "KEYWORD ARGUMENTS"
   ]
  },
  {
   "cell_type": "code",
   "execution_count": 14,
   "metadata": {},
   "outputs": [],
   "source": [
    "def saranathan(name='Saranathan',dept ='IT'):\n",
    "    print(\"Welcome to :\",name,dept)\n"
   ]
  },
  {
   "cell_type": "code",
   "execution_count": 15,
   "metadata": {},
   "outputs": [
    {
     "name": "stdout",
     "output_type": "stream",
     "text": [
      "Welcome to : Saranathan IT\n"
     ]
    }
   ],
   "source": [
    "saranathan()"
   ]
  },
  {
   "cell_type": "code",
   "execution_count": 16,
   "metadata": {},
   "outputs": [
    {
     "name": "stdout",
     "output_type": "stream",
     "text": [
      "Welcome to : priya CSE\n"
     ]
    }
   ],
   "source": [
    "saranathan(name = 'priya',dept ='CSE')"
   ]
  },
  {
   "cell_type": "code",
   "execution_count": 17,
   "metadata": {},
   "outputs": [
    {
     "name": "stdout",
     "output_type": "stream",
     "text": [
      "Welcome to : priya CSE\n"
     ]
    }
   ],
   "source": [
    "saranathan(dept ='CSE',name = 'priya')"
   ]
  },
  {
   "cell_type": "markdown",
   "metadata": {},
   "source": [
    "VARIABLE LENGTH ARGUMENTS"
   ]
  },
  {
   "cell_type": "code",
   "execution_count": 23,
   "metadata": {},
   "outputs": [
    {
     "name": "stdout",
     "output_type": "stream",
     "text": [
      "hello\n",
      "hi\n",
      "hola\n"
     ]
    }
   ],
   "source": [
    "def myfunc(*args):\n",
    "    for arg in args:\n",
    "        print(arg)\n",
    "myfunc('hello','hi','hola')"
   ]
  },
  {
   "cell_type": "code",
   "execution_count": null,
   "metadata": {},
   "outputs": [],
   "source": [
    "def myfunc(*args):\n",
    "    for arg in args:\n",
    "        print(arg)\n",
    "myfunc('hello','hi','hola')"
   ]
  }
 ],
 "metadata": {
  "kernelspec": {
   "display_name": "Python 3",
   "language": "python",
   "name": "python3"
  },
  "language_info": {
   "codemirror_mode": {
    "name": "ipython",
    "version": 3
   },
   "file_extension": ".py",
   "mimetype": "text/x-python",
   "name": "python",
   "nbconvert_exporter": "python",
   "pygments_lexer": "ipython3",
   "version": "3.9.6"
  }
 },
 "nbformat": 4,
 "nbformat_minor": 2
}
